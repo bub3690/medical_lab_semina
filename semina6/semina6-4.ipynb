{
 "cells": [
  {
   "cell_type": "markdown",
   "id": "5043f43a",
   "metadata": {},
   "source": [
    "---\n",
    "\n",
    "## 7-4. 웹과 모바일 응용.\n",
    "\n",
    "\n",
    "### 7-3-1. 파노라마 영상제작\n",
    "\n",
    "\n",
    "#### 과정\n",
    "\n",
    "<img src=\"https://raw.githubusercontent.com/bub3690/medical_lab_semina/main/semina6/resource/panorama1.png\" width=\"550\" height=\"550\">\n",
    "\n",
    "- 번들 조정(bundle adjustment) : 영상 집합 전체에 대해 변환 행렬을 미세조정.\n",
    "\n",
    "- 이어 붙이기 : 다증 밴드 결합 알고리즘\n",
    "\n",
    "<img src=\"https://raw.githubusercontent.com/bub3690/medical_lab_semina/main/semina6/resource/panorama2.png\" width=\"550\" height=\"550\">\n",
    "\n",
    "---\n",
    "\n",
    "### 7-3-2. 사진 관광\n",
    "\n",
    "<img src=\"https://raw.githubusercontent.com/bub3690/medical_lab_semina/main/semina6/resource/panorama3.png\" width=\"550\" height=\"550\">\n",
    "\n",
    "- 구조 추정(structure from motion) : 영상들로부터 카메라 시점(view point)와 물체의 3차원 모양 복원\n",
    "\n",
    "마우스로 파란색 궤적을 따라간다.\n",
    "\n",
    "시스템은 현재 관찰자 시점에 가장 가까운 2~3개의 시점을 찾는다. 이들 시점에 해당하는 영상을 보간하여 현재 시점 영상을 제작.\n",
    "\n",
    "<img src=\"https://raw.githubusercontent.com/bub3690/medical_lab_semina/main/semina6/resource/panorama4.png\" width=\"550\" height=\"550\">\n",
    "\n",
    "파노라마와 달리, 겹치는 영상을 찾아내기위해 그래프를 도입.\n",
    "\n",
    "그래프에 존재하는 EDGE 각각에 대해, 번들 조정을 적용하여 카메라시점과 3차원 점 좌표 계산.\n",
    "\n"
   ]
  }
 ],
 "metadata": {
  "kernelspec": {
   "display_name": "Python 3",
   "language": "python",
   "name": "python3"
  },
  "language_info": {
   "codemirror_mode": {
    "name": "ipython",
    "version": 3
   },
   "file_extension": ".py",
   "mimetype": "text/x-python",
   "name": "python",
   "nbconvert_exporter": "python",
   "pygments_lexer": "ipython3",
   "version": "3.7.10"
  }
 },
 "nbformat": 4,
 "nbformat_minor": 5
}
