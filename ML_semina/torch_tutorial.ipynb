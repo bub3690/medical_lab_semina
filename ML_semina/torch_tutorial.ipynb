{
 "cells": [
  {
   "cell_type": "code",
   "execution_count": 1,
   "id": "0ec66982",
   "metadata": {},
   "outputs": [],
   "source": [
    "import torch"
   ]
  },
  {
   "cell_type": "code",
   "execution_count": 2,
   "id": "45bc2b59",
   "metadata": {},
   "outputs": [],
   "source": [
    "if torch.cuda.is_available():\n",
    "    DEVICE = torch.device('cuda')\n",
    "else:\n",
    "    DEVICE = torch.device('cpu')"
   ]
  },
  {
   "cell_type": "code",
   "execution_count": 5,
   "id": "1afd4a67",
   "metadata": {},
   "outputs": [
    {
     "data": {
      "text/plain": [
       "tensor([4.])"
      ]
     },
     "execution_count": 5,
     "metadata": {},
     "output_type": "execute_result"
    }
   ],
   "source": [
    "# scalar . 하나의 값.\n",
    "scalar = torch.tensor([1.])\n",
    "scalar2 = torch.tensor([3.])\n",
    "scalar+scalar2\n"
   ]
  },
  {
   "cell_type": "code",
   "execution_count": 6,
   "id": "0ef13ae6",
   "metadata": {},
   "outputs": [
    {
     "data": {
      "text/plain": [
       "tensor(32.)"
      ]
     },
     "execution_count": 6,
     "metadata": {},
     "output_type": "execute_result"
    }
   ],
   "source": [
    "#vector . 2개이상 수치\n",
    "vector1 = torch.tensor([1.,2.,3.])\n",
    "vector2 = torch.tensor([4.,5.,6.])\n",
    "\n",
    "torch.dot(vector1,vector2)\n"
   ]
  },
  {
   "cell_type": "code",
   "execution_count": 7,
   "id": "dab08baa",
   "metadata": {},
   "outputs": [
    {
     "data": {
      "text/plain": [
       "tensor([[ 7., 10.],\n",
       "        [15., 22.]])"
      ]
     },
     "execution_count": 7,
     "metadata": {},
     "output_type": "execute_result"
    }
   ],
   "source": [
    "#행렬 : 2개이상의 벡터로 구성된 값.\n",
    "matrix1 = torch.tensor([[1.,2.],[3.,4.]])\n",
    "matrix2 = torch.tensor([[1.,2.],[3.,4.]])\n",
    "\n",
    "torch.matmul(matrix1,matrix2)\n"
   ]
  },
  {
   "cell_type": "code",
   "execution_count": 10,
   "id": "307d1da6",
   "metadata": {},
   "outputs": [
    {
     "data": {
      "text/plain": [
       "tensor([[[  7.,  10.],\n",
       "         [ 15.,  22.]],\n",
       "\n",
       "        [[ 67.,  78.],\n",
       "         [ 91., 106.]]])"
      ]
     },
     "execution_count": 10,
     "metadata": {},
     "output_type": "execute_result"
    }
   ],
   "source": [
    "#텐서: 여러 행렬로 구성된 것. 2차원 이상의 배열\n",
    "tensor1= torch.tensor([\n",
    "    [[1.,2.],\n",
    "     [3.,4.]],\n",
    "    \n",
    "    [[5.,6.],\n",
    "     [7.,8.]],\n",
    "    \n",
    "])\n",
    "\n",
    "tensor2= torch.tensor([\n",
    "    [[1.,2.],\n",
    "     [3.,4.]],\n",
    "    \n",
    "    [[5.,6.],\n",
    "     [7.,8.]],\n",
    "    \n",
    "])\n",
    "\n",
    "\n",
    "tensor1-tensor2\n",
    "torch.matmul(tensor1,tensor2)#각 위치의 행렬마다 시행.\n"
   ]
  },
  {
   "cell_type": "code",
   "execution_count": null,
   "id": "303e2fe3",
   "metadata": {},
   "outputs": [],
   "source": []
  }
 ],
 "metadata": {
  "kernelspec": {
   "display_name": "Python 3 (ipykernel)",
   "language": "python",
   "name": "python3"
  },
  "language_info": {
   "codemirror_mode": {
    "name": "ipython",
    "version": 3
   },
   "file_extension": ".py",
   "mimetype": "text/x-python",
   "name": "python",
   "nbconvert_exporter": "python",
   "pygments_lexer": "ipython3",
   "version": "3.7.10"
  }
 },
 "nbformat": 4,
 "nbformat_minor": 5
}
