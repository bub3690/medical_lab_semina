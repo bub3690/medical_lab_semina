{
 "cells": [
  {
   "cell_type": "code",
   "execution_count": 7,
   "id": "43899ae9",
   "metadata": {
    "scrolled": true
   },
   "outputs": [
    {
     "data": {
      "text/plain": [
       "array([[ 38,   3,   0, ...,  24, 255,  82],\n",
       "       [ 10,  10,   1, ...,  24, 255, 255],\n",
       "       [  3,   2,   2, ...,  24,  24,  24],\n",
       "       ...,\n",
       "       [  9,   9,   9, ...,  10,  16,  16],\n",
       "       [  9,   9,   9, ...,  16,  10,  10],\n",
       "       [  9,   9,   9, ...,  16,  10,   8]], dtype=uint8)"
      ]
     },
     "execution_count": 7,
     "metadata": {},
     "output_type": "execute_result"
    }
   ],
   "source": [
    "bp\n",
    "#backprojection. confidence map"
   ]
  },
  {
   "cell_type": "markdown",
   "id": "cba71ee5",
   "metadata": {},
   "source": [
    "\n",
    "\n",
    "```\n",
    "cv2.meanShift(probImage, window, criteria) -> retval, window\n",
    "초기에는 WINDOW부터 시작해\n",
    "\n",
    "```\n",
    "\n",
    "어떻게 backprojection의 confidence map을 이용해, meanshift를 사용할까?\n",
    "\n",
    "초기 시작 window의 중점에서 시작하여, 윈도우 내의 confidence들의 무게중심을 계산해 이동한다.\n",
    "\n",
    "무게중심은 가우시안 분포로 계산된다."
   ]
  },
  {
   "cell_type": "code",
   "execution_count": 19,
   "id": "b7f9e688",
   "metadata": {},
   "outputs": [],
   "source": [
    "#영상 ROI 지정.\n",
    "\n",
    "import cv2\n",
    "\n",
    "mouse_is_pressing = False\n",
    "start_x,start_y, end_x, end_y = -1,-1,-1,-1\n",
    "step = 0\n",
    "track_window = None\n",
    "\n",
    "#마우스 콜백함수\n",
    "def mouse_callback(event,x,y,flags,param):\n",
    "    # 왼쪽 버튼 누를 시 현재 좌표를 사각형 그릴 때\n",
    "    # 시작 좌표로 저장한다.\n",
    "    global start_x,start_y,end_x,end_y\n",
    "    global step,mouse_is_pressing,track_window\n",
    "    \n",
    "    if event == cv2.EVENT_LBUTTONDOWN:\n",
    "        step = 1\n",
    "        \n",
    "        mouse_is_pressing = True\n",
    "        start_x=x\n",
    "        start_y=y\n",
    "        \n",
    "    # 왼쪽 버튼 누른채 마우스 이동시 현재 좌표를 사각형 끝 좌표로\n",
    "    elif event == cv2.EVENT_MOUSEMOVE:\n",
    "        if mouse_is_pressing:\n",
    "            end_x = x\n",
    "            end_y = y\n",
    "            step = 2\n",
    "    #마우스를 떼면 다시 끝좌표로 저장\n",
    "    elif event == cv2.EVENT_LBUTTONUP:\n",
    "        mouse_is_pressing = False\n",
    "        end_x=x\n",
    "        end_y=y\n",
    "        step=3\n",
    "\n",
    "    "
   ]
  },
  {
   "cell_type": "code",
   "execution_count": 20,
   "id": "75a65e7d",
   "metadata": {
    "scrolled": false
   },
   "outputs": [
    {
     "name": "stdout",
     "output_type": "stream",
     "text": [
      "캡처 실패\n"
     ]
    }
   ],
   "source": [
    "\n",
    "#웹캠 초기화\n",
    "#동영상으로 수정\n",
    "cap = cv2.VideoCapture('../../data/whale_movie.mp4')\n",
    "fourcc = cv2.VideoWriter_fourcc(*'DIVX')\n",
    "out = cv2.VideoWriter('output.mp4', fourcc, 25.0, (int(cap.get(3)),int(cap.get(4))))\n",
    "\n",
    "\n",
    "if cap.isOpened() == False:\n",
    "    print(\"카메라를 열수 없다.\")\n",
    "    exit(1)\n",
    "\n",
    "#윈도우를 생성하고 마우스 콜백함수 설정\n",
    "cv2.namedWindow(\"Color\")\n",
    "cv2.setMouseCallback(\"Color\",mouse_callback)\n",
    "first=True\n",
    "\n",
    "while True:\n",
    "    ret,img_color = cap.read()\n",
    "    \n",
    "    if ret==False:\n",
    "        print(\"캡처 실패\")\n",
    "        break\n",
    "    \n",
    "    if step==1:#처음 클릭시 원을 그림.\n",
    "        cv2.circle(img_color,(start_x,start_y),10,(0,255,0),-1)\n",
    "    \n",
    "    elif step==2:#마우스 이동 중 사각형을 그림.\n",
    "        cv2.rectangle(img_color,(start_x,start_y),(end_x,end_y),(0,255,0),3)\n",
    "\n",
    "    elif step==3:## ****손을 뗀 경우 ROI 영역을 얻게됨.\n",
    "        if start_x > end_x:\n",
    "            #예외처리\n",
    "            start_x,end_x = end_x,start_x\n",
    "            start_y,end_y = end_y,start_y\n",
    "        #초기 사각형의 위치\n",
    "        track_window = (start_x,start_y,end_x-start_x,end_y-start_y)\n",
    "        #x,y,w,h\n",
    "        \n",
    "        #HSV 색공간으로 변환하고 ROI영역 지정.\n",
    "        img_hsv = cv2.cvtColor(img_color,cv2.COLOR_BGR2HSV)\n",
    "        img_ROI = img_hsv[start_y:end_y,start_x:end_x]\n",
    "        \n",
    "        cv2.imshow(\"ROI\",img_ROI)\n",
    "        \n",
    "        #ROI의 히스토그램을 계산(명암 히스토그램)\n",
    "        objectHistogram = cv2.calcHist([img_ROI],[0],None,[180],(0,180))\n",
    "        #hsv로 변환하고 h채널의 히스토그램을 구한다.\n",
    "        #(얼굴 검출때와 다르게 색상 채널만)\n",
    "        \n",
    "        cv2.normalize(objectHistogram,objectHistogram,alpha=0,beta=255,\n",
    "                     norm_type=cv2.NORM_MINMAX)\n",
    "        #모델을 양자화 대신 normalize만 진행.\n",
    "        #(min-max scaler히스토그램을 0~255 값으로)\n",
    "        \n",
    "        step= step+1\n",
    "    elif step==4:# ROI가 구해진 이후 \n",
    "        #hsv 색공간으로 변환\n",
    "        img_hsv = cv2.cvtColor(img_color,cv2.COLOR_BGR2HSV)\n",
    "        \n",
    "        #img_hsv에서 model 히스토그램을 갖는 영역을 찾는다.\n",
    "        #bp는 confidence map이 된다.\n",
    "        bp = cv2.calcBackProject([img_hsv],[0],objectHistogram,\n",
    "                                [0,180],1)\n",
    "        #h 채널 이용\n",
    "        \n",
    "        # meanshift를 적용하여, 오브젝트의 새로운 위치를 얻는다.\n",
    "        term=(cv2.TERM_CRITERIA_EPS|cv2.TERM_CRITERIA_COUNT,10,1)\n",
    "        #meanshift 종료조건\n",
    "        ret,track_window = cv2.meanShift(bp,track_window,\n",
    "                                        term)\n",
    "        \n",
    "        #오브젝트 위치에 빨간색 사각형을 그려준다.\n",
    "        x,y,w,h = track_window\n",
    "        cv2.rectangle(img_color,(x,y),(x+w,y+h),(0,0,255),2)\n",
    "    \n",
    "    out.write(img_color)\n",
    "    cv2.imshow(\"Color\",img_color)\n",
    "    if cv2.waitKey(25)>=0:\n",
    "        break\n",
    "cap.release()\n",
    "out.release()\n",
    "cv2.destroyAllWindows()"
   ]
  }
 ],
 "metadata": {
  "kernelspec": {
   "display_name": "Python 3",
   "language": "python",
   "name": "python3"
  },
  "language_info": {
   "codemirror_mode": {
    "name": "ipython",
    "version": 3
   },
   "file_extension": ".py",
   "mimetype": "text/x-python",
   "name": "python",
   "nbconvert_exporter": "python",
   "pygments_lexer": "ipython3",
   "version": "3.7.10"
  }
 },
 "nbformat": 4,
 "nbformat_minor": 5
}
